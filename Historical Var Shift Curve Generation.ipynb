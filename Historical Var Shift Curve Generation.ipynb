{
 "cells": [
  {
   "cell_type": "code",
   "execution_count": 1,
   "metadata": {
    "tags": []
   },
   "outputs": [
    {
     "data": {
      "text/plain": [
       "[['1D', '2000-12-19', '3', '0.9998056268293704'],\n",
       " ['2D', '2000-12-20', '4', '0.9996253108063339'],\n",
       " ['1W', '2000-12-27', '12', '0.9983152499840529'],\n",
       " ['1M', '2001-01-22', '35', '0.9932536511127905'],\n",
       " ['2M', '2001-02-20', '66', '0.9871270774308226'],\n",
       " ['1Y', '2001-12-20', '369', '0.9235551081610816'],\n",
       " ['10Y', '2010-12-20', '3657', '0.36386695651023054'],\n",
       " ['30Y', '2030-12-20', '10961', '0.04149627332669844']]"
      ]
     },
     "execution_count": 1,
     "metadata": {},
     "output_type": "execute_result"
    }
   ],
   "source": [
    "import numpy as np\n",
    "\n",
    "def calculateDiscount(rates, days):\n",
    "    discount = []\n",
    "    for i in range (0, len(rates)) :\n",
    "        intermediate = ((365 / (365 + rates[i]/100)) ** days[i])\n",
    "        discount.append(intermediate)\n",
    "    return discount\n",
    "\n",
    "def calculateDate(date, terms):\n",
    "    realDateTerms = []\n",
    "    for term in terms:\n",
    "        if (term[-1:] == 'D'):\n",
    "            realDateTerms.append(np.busday_offset(date,term[:-1]))\n",
    "        elif (term[-1:] == 'W' ):\n",
    "            realDateTerms.append(np.busday_offset(date, 7 * int(term[:-1]) ))\n",
    "        elif (term[-1:] == 'M' ):\n",
    "            realDateTerms.append(np.busday_offset(date, 7 * int(term[:-1]) ))\n",
    "    return realDateTerms\n",
    "            \n",
    "\n",
    "date1 = '2000-12-15'\n",
    "date2 = '2000-12-18'\n",
    "\n",
    "termPoints = ['1D', '2D', '1W', '1M', '2M', '1Y', '10Y', '30Y']\n",
    "realTermPoints1 = ['2000-12-18', '2000-12-19', '2000-12-27', '2001-01-19', '2001-02-19', '2001-12-19', '2010-12-20', '2030-12-19']\n",
    "realTermPoints2 = ['2000-12-19', '2000-12-20', '2000-12-27', '2001-01-22', '2001-02-20', '2001-12-20', '2010-12-20', '2030-12-20']\n",
    "\n",
    "Curve1 = np.array([6.99, 6.92, 6.83, 7.14, 7.37, 7.92, 10.0, 10.7], dtype=float)\n",
    "Curve2 = np.array([7.096, 6.84, 6.839, 7.06, 7.39, 7.91, 10.1, 10.6], dtype=float)\n",
    "\n",
    "\n",
    "\n",
    "AsOfDate1 = [int((np.datetime64(term) - np.datetime64(date1))/ np.timedelta64(1,'D')) for term in realTermPoints1 ]\n",
    "AsOfDate2 = [int((np.datetime64(term) - np.datetime64(date2))/ np.timedelta64(1,'D')) for term in realTermPoints2 ]\n",
    "\n",
    "discount1 = calculateDiscount(Curve1, AsOfDate1)\n",
    "discount2 = calculateDiscount(Curve2, AsOfDate2)\n",
    "\n",
    "\n",
    "curve_1 = np.array([termPoints, realTermPoints1,  AsOfDate1, discount1])\n",
    "curve_2 = np.array([termPoints, realTermPoints2,  AsOfDate1, discount2])\n",
    "\n",
    "curve1 = [  [curve_1[0][x], curve_1[1][x], curve_1[2][x], curve_1[3][x] ] for x in range(len(curve_1[0])) ]\n",
    "curve2= [  [curve_2[0][x], curve_2[1][x], curve_2[2][x], curve_2[3][x] ] for x in range(len(curve_2[0])) ]\n",
    "\n",
    "curve2"
   ]
  },
  {
   "cell_type": "code",
   "execution_count": 2,
   "metadata": {
    "tags": []
   },
   "outputs": [],
   "source": [
    "shiftDates = []\n",
    "adjustedDates = []\n",
    "Di_R1 = []\n",
    "Di_Offset_R2 = []\n",
    "#combining two curves\n",
    "shiftDates = realTermPoints1\n",
    "#calculate the offset, number of days between the As Of Date for Curve 1 and the As of Date for Curve 2 \n",
    "offset = int((np.datetime64(date2) - np.datetime64(date1))/ np.timedelta64(1,'D'))\n",
    "#Substract the offset from each date in Curve 2 to Obtain the Adjusted Dates\n",
    "adjustedDates = [str(np.datetime64(term) - np.timedelta64(3, 'D')) for term in realTermPoints2]\n",
    "#Unionize the two sets of Dates into a new Date Set\n",
    "for date in adjustedDates:\n",
    "    shiftDates.append(date)\n",
    "Di_R1= [x for x in shiftDates]\n",
    "Di_R1.sort()\n",
    "Di_R1 = set(Di_R1)\n",
    "Di_Offset_R2 = [str((np.datetime64(x) + np.timedelta64(3,'D'))) for x in Di_R1]\n",
    "Di_Offset_R2 = set(Di_Offset_R2)"
   ]
  },
  {
   "cell_type": "code",
   "execution_count": 3,
   "metadata": {
    "tags": []
   },
   "outputs": [
    {
     "data": {
      "text/plain": [
       "[0.99942569943108,\n",
       " 0.9992420031394145,\n",
       " 0.9977572493443698,\n",
       " 0.9931774740520622,\n",
       " 0.9867631577596347,\n",
       " 0.92306164446671,\n",
       " 0.3672249836573305,\n",
       " 0.04024563331564775]"
      ]
     },
     "execution_count": 3,
     "metadata": {},
     "output_type": "execute_result"
    }
   ],
   "source": [
    "#Calculating the shift amounts\n",
    "Di_R1\n",
    "discount1"
   ]
  }
 ],
 "metadata": {
  "kernelspec": {
   "display_name": "Python 3 (ipykernel)",
   "language": "python",
   "name": "python3"
  },
  "language_info": {
   "codemirror_mode": {
    "name": "ipython",
    "version": 3
   },
   "file_extension": ".py",
   "mimetype": "text/x-python",
   "name": "python",
   "nbconvert_exporter": "python",
   "pygments_lexer": "ipython3",
   "version": "3.11.4"
  }
 },
 "nbformat": 4,
 "nbformat_minor": 4
}
