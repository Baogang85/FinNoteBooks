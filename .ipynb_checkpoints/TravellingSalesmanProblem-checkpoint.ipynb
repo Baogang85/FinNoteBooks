{
 "cells": [
  {
   "cell_type": "markdown",
   "metadata": {},
   "source": [
    "# PYTHON VERSION"
   ]
  },
  {
   "cell_type": "code",
   "execution_count": 1,
   "metadata": {},
   "outputs": [
    {
     "name": "stdout",
     "output_type": "stream",
     "text": [
      "3.11.4 (main, Jul  5 2023, 13:45:01) [GCC 11.2.0]\n"
     ]
    }
   ],
   "source": [
    "import sys\n",
    "print(sys.version)"
   ]
  },
  {
   "cell_type": "code",
   "execution_count": 2,
   "metadata": {},
   "outputs": [],
   "source": [
    "import numpy as np\n",
    "import matplotlib.pyplot as plt\n",
    "\n",
    "\n",
    "np.random.seed(2017)  # for reproducibility\n",
    "\n",
    "%matplotlib inline"
   ]
  },
  {
   "cell_type": "markdown",
   "metadata": {},
   "source": [
    "# Simulated Annealing\n",
    "\n",
    "In this exercise the method of simulated annealing is used\n",
    "([simulated annealing](https://en.wikipedia.org/wiki/Simulated_annealing)) for\n",
    "finding the minimum of a function $V: \\mathbb{R} \\to \\mathbb{R}$. \n",
    "As an example, the polynomial function below is considered:\n",
    "\n",
    "$$ V(x) = \\frac{x^4}{4} + \\frac{7 x^3}{15} + \\frac{4 x^2}{5} + \\frac{4x}{5} + 2.$$"
   ]
  },
  {
   "cell_type": "code",
   "execution_count": 3,
   "metadata": {},
   "outputs": [
    {
     "data": {
      "image/png": "[encoded data removed]",
      "text/plain": [
       "<Figure size 900x600 with 1 Axes>"
      ]
     },
     "metadata": {},
     "output_type": "display_data"
    }
   ],
   "source": [
    "def V(x):\n",
    "    \"\"\"Energy (objective) function to minimize\"\"\"\n",
    "    return np.polyval((0.25, 7/15, -0.8, -0.8, 2.0), x)\n",
    "\n",
    "x = np.linspace(-3, 2, 100)\n",
    "\n",
    "plt.figure(figsize = (9, 6))\n",
    "plt.plot(x, V(x))\n",
    "plt.xlabel(\"x\")\n",
    "plt.ylabel(\"V(x)\")\n",
    "plt.grid(True)\n",
    "plt.show()"
   ]
  },
  {
   "cell_type": "markdown",
   "metadata": {},
   "source": [
    "As you can see the function is minimized at $x= -2$ and a local minimum t $x = 1$.\n",
    "\n",
    "The simulated annealing algorithm works as follows. Initially a \"particle\" is\n",
    "is randomly placed in the interval $(-3.5, +3.5)$ and has a temperature of $T = 128$. \n",
    "At each iteration it attempts a displacement that follows a uniform distribution in the interval \n",
    "$(-\\delta, +\\delta)$ and performs the shift according to the *Metropolis-Hastings* algorithm.\n",
    "Temperature controls how \"flexible\" our particle is,\n",
    "i.e. how easily it accepts shifts $x\\to y$ that seem \"worse\" ($V(y)>V(x)$) than the\n",
    "current position. \n",
    "\n",
    "First we let the particle move freely and explore space (high temperature)\n",
    "but then, every $n$ steps, we restrict it (lower temperature). \n",
    "The idea is that after giving the particle a chance to explore space for some time, as we cool it\n",
    "it will prefer to visit valleys rather than hills. The goal is to slowly trap\n",
    "the particle in the deepest valley (near the minimum of the $V$ function.) This process (of gradual cooling) continues until the temperature reaches $T_{min}$\n",
    "\n",
    "*Note*: The function `np.polyval(p, x)` takes as input a vector `p` and a single value `x`\n",
    "and computes the polynomial $ p \\cdot {(x^d, x^{d-1}, ..., x^0)}^T$ where `d` is the order of `p`. When `x`\n",
    "is a vector, it computes the polynomial value at the point `x`."
   ]
  },
  {
   "cell_type": "markdown",
   "metadata": {},
   "source": [
    "## Algorithm\n",
    "\n",
    "The next cell contains a simple illustration of this idea."
   ]
  },
  {
   "cell_type": "code",
   "execution_count": 4,
   "metadata": {},
   "outputs": [],
   "source": [
    "def sim_anneal(f, x_low, x_high,\n",
    "               T=2.0, T_min=2**(-12), \n",
    "               cool_factor=0.9, cool_sch=100,\n",
    "               delta = 1.0, shrink_factor=0.5, shrink_thres=0.25,\n",
    "               trace = False):\n",
    "    \n",
    "    # Initialize\n",
    "    x = np.random.uniform(x_low, x_high)\n",
    "    f_cur = f(x)  # current value of f\n",
    "    steps = accepted = 0\n",
    "    if trace: path = []\n",
    "\n",
    "    # Main loop\n",
    "    while T > T_min:\n",
    "        \n",
    "        # proposed new position\n",
    "        x_new = x + np.random.uniform(-delta, delta)\n",
    "        if x_new > x_high or x_new < x_low:\n",
    "            continue  # skip this proposal\n",
    "        f_new = f(x_new)\n",
    "\n",
    "        # accept/reject jump\n",
    "        if np.log(np.random.rand()) < -(f_new - f_cur) / T :\n",
    "            x, f_cur = x_new, f_new\n",
    "            accepted += 1            \n",
    "                \n",
    "        # Cooling\n",
    "        if steps == cool_sch:  # time for the next cooling\n",
    "            T *= cool_factor  # cool down\n",
    "            # Adjust Search Space\n",
    "            if accepted / steps < shrink_thres:\n",
    "                delta *= shrink_factor\n",
    "            steps = accepted = 0\n",
    "        \n",
    "        if trace: path.append(x)\n",
    "        steps += 1        \n",
    "        \n",
    "    \n",
    "    if trace: return path\n",
    "    return x"
   ]
  },
  {
   "cell_type": "markdown",
   "metadata": {},
   "source": [
    "The parameters of the `sim_anneal` function are:\n",
    "\n",
    "* **`f`**: the function to be minimized\n",
    "* **`x_low, x_high`**: The lower and upper value bounding the minimum\n",
    "* **`T, T_min`**: The initial and final annealing temperatures\n",
    "* **`cool_factor`**: How much the temperature decreases in each cooling cycle (percentage of the previous one)\n",
    "* **`cool_sch`**: How many steps to reduce the temperature (%) (% of the total number of times the temperature is reduced (%) (**`cool_sch`**)\n",
    "* **`delta`**: \"Jumping\" radius\n",
    "* **`shrink_factor`**: How much to reduce `delta` if we see that the method is stuck\n",
    "* **`shirnk_thres`**: Percentage of successful jumps below which we consider the particle to be stuck.\n",
    "* **`trace`**: Tracing the whole route or just the final position\n",
    "\n",
    "Therefore to compute the minimum of the $V$ function in the interval $(-3.5, 3.5)$ the function is executed with the following parameters.\n",
    "\n",
    "*Note: The whole route of the particle is traced."
   ]
  },
  {
   "cell_type": "code",
   "execution_count": 5,
   "metadata": {},
   "outputs": [
    {
     "data": {
      "text/plain": [
       "0.9911873133787367"
      ]
     },
     "execution_count": 5,
     "metadata": {},
     "output_type": "execute_result"
    }
   ],
   "source": [
    "# Parameters\n",
    "T_start, T_end = 2.0, 2**(-12)\n",
    "cool_sch, cool_factor = 100, 0.99\n",
    "\n",
    "path = sim_anneal(V, -3.5, 3.5, delta = 1.,\n",
    "                  T = T_start, T_min = T_end,\n",
    "                  cool_factor = cool_factor, \n",
    "                  cool_sch = cool_sch,\n",
    "                  trace = True)  # keep the default for the rest\n",
    "\n",
    "path[-1]  # last position"
   ]
  },
  {
   "cell_type": "markdown",
   "metadata": {},
   "source": [
    "The next cell visualizes the process."
   ]
  },
  {
   "cell_type": "code",
   "execution_count": 6,
   "metadata": {},
   "outputs": [
    {
     "ename": "ImportError",
     "evalue": "Failed to import any of the following Qt binding modules: PyQt6, PySide6, PyQt5, PySide2",
     "output_type": "error",
     "traceback": [
      "\u001b[0;31m---------------------------------------------------------------------------\u001b[0m",
      "\u001b[0;31mImportError\u001b[0m                               Traceback (most recent call last)",
      "Cell \u001b[0;32mIn[6], line 1\u001b[0m\n\u001b[0;32m----> 1\u001b[0m get_ipython()\u001b[38;5;241m.\u001b[39mrun_line_magic(\u001b[38;5;124m'\u001b[39m\u001b[38;5;124mmatplotlib\u001b[39m\u001b[38;5;124m'\u001b[39m, \u001b[38;5;124m'\u001b[39m\u001b[38;5;124mqt\u001b[39m\u001b[38;5;124m'\u001b[39m)\n\u001b[1;32m      2\u001b[0m get_ipython()\u001b[38;5;241m.\u001b[39mrun_line_magic(\u001b[38;5;124m'\u001b[39m\u001b[38;5;124mrun\u001b[39m\u001b[38;5;124m'\u001b[39m, \u001b[38;5;124m'\u001b[39m\u001b[38;5;124manimate_simanneal.py -minima 0\u001b[39m\u001b[38;5;124m'\u001b[39m)\n",
      "File \u001b[0;32m/opt/conda/lib/python3.11/site-packages/IPython/core/interactiveshell.py:2432\u001b[0m, in \u001b[0;36mInteractiveShell.run_line_magic\u001b[0;34m(self, magic_name, line, _stack_depth)\u001b[0m\n\u001b[1;32m   2430\u001b[0m     kwargs[\u001b[38;5;124m'\u001b[39m\u001b[38;5;124mlocal_ns\u001b[39m\u001b[38;5;124m'\u001b[39m] \u001b[38;5;241m=\u001b[39m \u001b[38;5;28mself\u001b[39m\u001b[38;5;241m.\u001b[39mget_local_scope(stack_depth)\n\u001b[1;32m   2431\u001b[0m \u001b[38;5;28;01mwith\u001b[39;00m \u001b[38;5;28mself\u001b[39m\u001b[38;5;241m.\u001b[39mbuiltin_trap:\n\u001b[0;32m-> 2432\u001b[0m     result \u001b[38;5;241m=\u001b[39m fn(\u001b[38;5;241m*\u001b[39margs, \u001b[38;5;241m*\u001b[39m\u001b[38;5;241m*\u001b[39mkwargs)\n\u001b[1;32m   2434\u001b[0m \u001b[38;5;66;03m# The code below prevents the output from being displayed\u001b[39;00m\n\u001b[1;32m   2435\u001b[0m \u001b[38;5;66;03m# when using magics with decorator @output_can_be_silenced\u001b[39;00m\n\u001b[1;32m   2436\u001b[0m \u001b[38;5;66;03m# when the last Python token in the expression is a ';'.\u001b[39;00m\n\u001b[1;32m   2437\u001b[0m \u001b[38;5;28;01mif\u001b[39;00m \u001b[38;5;28mgetattr\u001b[39m(fn, magic\u001b[38;5;241m.\u001b[39mMAGIC_OUTPUT_CAN_BE_SILENCED, \u001b[38;5;28;01mFalse\u001b[39;00m):\n",
      "File \u001b[0;32m/opt/conda/lib/python3.11/site-packages/IPython/core/magics/pylab.py:99\u001b[0m, in \u001b[0;36mPylabMagics.matplotlib\u001b[0;34m(self, line)\u001b[0m\n\u001b[1;32m     97\u001b[0m     \u001b[38;5;28mprint\u001b[39m(\u001b[38;5;124m\"\u001b[39m\u001b[38;5;124mAvailable matplotlib backends: \u001b[39m\u001b[38;5;132;01m%s\u001b[39;00m\u001b[38;5;124m\"\u001b[39m \u001b[38;5;241m%\u001b[39m backends_list)\n\u001b[1;32m     98\u001b[0m \u001b[38;5;28;01melse\u001b[39;00m:\n\u001b[0;32m---> 99\u001b[0m     gui, backend \u001b[38;5;241m=\u001b[39m \u001b[38;5;28mself\u001b[39m\u001b[38;5;241m.\u001b[39mshell\u001b[38;5;241m.\u001b[39menable_matplotlib(args\u001b[38;5;241m.\u001b[39mgui\u001b[38;5;241m.\u001b[39mlower() \u001b[38;5;28;01mif\u001b[39;00m \u001b[38;5;28misinstance\u001b[39m(args\u001b[38;5;241m.\u001b[39mgui, \u001b[38;5;28mstr\u001b[39m) \u001b[38;5;28;01melse\u001b[39;00m args\u001b[38;5;241m.\u001b[39mgui)\n\u001b[1;32m    100\u001b[0m     \u001b[38;5;28mself\u001b[39m\u001b[38;5;241m.\u001b[39m_show_matplotlib_backend(args\u001b[38;5;241m.\u001b[39mgui, backend)\n",
      "File \u001b[0;32m/opt/conda/lib/python3.11/site-packages/IPython/core/interactiveshell.py:3621\u001b[0m, in \u001b[0;36mInteractiveShell.enable_matplotlib\u001b[0;34m(self, gui)\u001b[0m\n\u001b[1;32m   3617\u001b[0m         \u001b[38;5;28mprint\u001b[39m(\u001b[38;5;124m'\u001b[39m\u001b[38;5;124mWarning: Cannot change to a different GUI toolkit: \u001b[39m\u001b[38;5;132;01m%s\u001b[39;00m\u001b[38;5;124m.\u001b[39m\u001b[38;5;124m'\u001b[39m\n\u001b[1;32m   3618\u001b[0m                 \u001b[38;5;124m'\u001b[39m\u001b[38;5;124m Using \u001b[39m\u001b[38;5;132;01m%s\u001b[39;00m\u001b[38;5;124m instead.\u001b[39m\u001b[38;5;124m'\u001b[39m \u001b[38;5;241m%\u001b[39m (gui, \u001b[38;5;28mself\u001b[39m\u001b[38;5;241m.\u001b[39mpylab_gui_select))\n\u001b[1;32m   3619\u001b[0m         gui, backend \u001b[38;5;241m=\u001b[39m pt\u001b[38;5;241m.\u001b[39mfind_gui_and_backend(\u001b[38;5;28mself\u001b[39m\u001b[38;5;241m.\u001b[39mpylab_gui_select)\n\u001b[0;32m-> 3621\u001b[0m pt\u001b[38;5;241m.\u001b[39mactivate_matplotlib(backend)\n\u001b[1;32m   3622\u001b[0m configure_inline_support(\u001b[38;5;28mself\u001b[39m, backend)\n\u001b[1;32m   3624\u001b[0m \u001b[38;5;66;03m# Now we must activate the gui pylab wants to use, and fix %run to take\u001b[39;00m\n\u001b[1;32m   3625\u001b[0m \u001b[38;5;66;03m# plot updates into account\u001b[39;00m\n",
      "File \u001b[0;32m/opt/conda/lib/python3.11/site-packages/IPython/core/pylabtools.py:368\u001b[0m, in \u001b[0;36mactivate_matplotlib\u001b[0;34m(backend)\u001b[0m\n\u001b[1;32m    363\u001b[0m \u001b[38;5;66;03m# Due to circular imports, pyplot may be only partially initialised\u001b[39;00m\n\u001b[1;32m    364\u001b[0m \u001b[38;5;66;03m# when this function runs.\u001b[39;00m\n\u001b[1;32m    365\u001b[0m \u001b[38;5;66;03m# So avoid needing matplotlib attribute-lookup to access pyplot.\u001b[39;00m\n\u001b[1;32m    366\u001b[0m \u001b[38;5;28;01mfrom\u001b[39;00m \u001b[38;5;21;01mmatplotlib\u001b[39;00m \u001b[38;5;28;01mimport\u001b[39;00m pyplot \u001b[38;5;28;01mas\u001b[39;00m plt\n\u001b[0;32m--> 368\u001b[0m plt\u001b[38;5;241m.\u001b[39mswitch_backend(backend)\n\u001b[1;32m    370\u001b[0m plt\u001b[38;5;241m.\u001b[39mshow\u001b[38;5;241m.\u001b[39m_needmain \u001b[38;5;241m=\u001b[39m \u001b[38;5;28;01mFalse\u001b[39;00m\n\u001b[1;32m    371\u001b[0m \u001b[38;5;66;03m# We need to detect at runtime whether show() is called by the user.\u001b[39;00m\n\u001b[1;32m    372\u001b[0m \u001b[38;5;66;03m# For this, we wrap it into a decorator which adds a 'called' flag.\u001b[39;00m\n",
      "File \u001b[0;32m/opt/conda/lib/python3.11/site-packages/matplotlib/pyplot.py:271\u001b[0m, in \u001b[0;36mswitch_backend\u001b[0;34m(newbackend)\u001b[0m\n\u001b[1;32m    268\u001b[0m \u001b[38;5;66;03m# have to escape the switch on access logic\u001b[39;00m\n\u001b[1;32m    269\u001b[0m old_backend \u001b[38;5;241m=\u001b[39m \u001b[38;5;28mdict\u001b[39m\u001b[38;5;241m.\u001b[39m\u001b[38;5;21m__getitem__\u001b[39m(rcParams, \u001b[38;5;124m'\u001b[39m\u001b[38;5;124mbackend\u001b[39m\u001b[38;5;124m'\u001b[39m)\n\u001b[0;32m--> 271\u001b[0m backend_mod \u001b[38;5;241m=\u001b[39m importlib\u001b[38;5;241m.\u001b[39mimport_module(\n\u001b[1;32m    272\u001b[0m     cbook\u001b[38;5;241m.\u001b[39m_backend_module_name(newbackend))\n\u001b[1;32m    274\u001b[0m required_framework \u001b[38;5;241m=\u001b[39m _get_required_interactive_framework(backend_mod)\n\u001b[1;32m    275\u001b[0m \u001b[38;5;28;01mif\u001b[39;00m required_framework \u001b[38;5;129;01mis\u001b[39;00m \u001b[38;5;129;01mnot\u001b[39;00m \u001b[38;5;28;01mNone\u001b[39;00m:\n",
      "File \u001b[0;32m/opt/conda/lib/python3.11/importlib/__init__.py:126\u001b[0m, in \u001b[0;36mimport_module\u001b[0;34m(name, package)\u001b[0m\n\u001b[1;32m    124\u001b[0m             \u001b[38;5;28;01mbreak\u001b[39;00m\n\u001b[1;32m    125\u001b[0m         level \u001b[38;5;241m+\u001b[39m\u001b[38;5;241m=\u001b[39m \u001b[38;5;241m1\u001b[39m\n\u001b[0;32m--> 126\u001b[0m \u001b[38;5;28;01mreturn\u001b[39;00m _bootstrap\u001b[38;5;241m.\u001b[39m_gcd_import(name[level:], package, level)\n",
      "File \u001b[0;32m<frozen importlib._bootstrap>:1204\u001b[0m, in \u001b[0;36m_gcd_import\u001b[0;34m(name, package, level)\u001b[0m\n",
      "File \u001b[0;32m<frozen importlib._bootstrap>:1176\u001b[0m, in \u001b[0;36m_find_and_load\u001b[0;34m(name, import_)\u001b[0m\n",
      "File \u001b[0;32m<frozen importlib._bootstrap>:1147\u001b[0m, in \u001b[0;36m_find_and_load_unlocked\u001b[0;34m(name, import_)\u001b[0m\n",
      "File \u001b[0;32m<frozen importlib._bootstrap>:690\u001b[0m, in \u001b[0;36m_load_unlocked\u001b[0;34m(spec)\u001b[0m\n",
      "File \u001b[0;32m<frozen importlib._bootstrap_external>:940\u001b[0m, in \u001b[0;36mexec_module\u001b[0;34m(self, module)\u001b[0m\n",
      "File \u001b[0;32m<frozen importlib._bootstrap>:241\u001b[0m, in \u001b[0;36m_call_with_frames_removed\u001b[0;34m(f, *args, **kwds)\u001b[0m\n",
      "File \u001b[0;32m/opt/conda/lib/python3.11/site-packages/matplotlib/backends/backend_qtagg.py:9\u001b[0m\n\u001b[1;32m      5\u001b[0m \u001b[38;5;28;01mimport\u001b[39;00m \u001b[38;5;21;01mctypes\u001b[39;00m\n\u001b[1;32m      7\u001b[0m \u001b[38;5;28;01mfrom\u001b[39;00m \u001b[38;5;21;01mmatplotlib\u001b[39;00m\u001b[38;5;21;01m.\u001b[39;00m\u001b[38;5;21;01mtransforms\u001b[39;00m \u001b[38;5;28;01mimport\u001b[39;00m Bbox\n\u001b[0;32m----> 9\u001b[0m \u001b[38;5;28;01mfrom\u001b[39;00m \u001b[38;5;21;01m.\u001b[39;00m\u001b[38;5;21;01mqt_compat\u001b[39;00m \u001b[38;5;28;01mimport\u001b[39;00m QT_API, _enum\n\u001b[1;32m     10\u001b[0m \u001b[38;5;28;01mfrom\u001b[39;00m \u001b[38;5;21;01m.\u001b[39;00m\u001b[38;5;21;01mbackend_agg\u001b[39;00m \u001b[38;5;28;01mimport\u001b[39;00m FigureCanvasAgg\n\u001b[1;32m     11\u001b[0m \u001b[38;5;28;01mfrom\u001b[39;00m \u001b[38;5;21;01m.\u001b[39;00m\u001b[38;5;21;01mbackend_qt\u001b[39;00m \u001b[38;5;28;01mimport\u001b[39;00m QtCore, QtGui, _BackendQT, FigureCanvasQT\n",
      "File \u001b[0;32m/opt/conda/lib/python3.11/site-packages/matplotlib/backends/qt_compat.py:135\u001b[0m\n\u001b[1;32m    133\u001b[0m         \u001b[38;5;28;01mbreak\u001b[39;00m\n\u001b[1;32m    134\u001b[0m     \u001b[38;5;28;01melse\u001b[39;00m:\n\u001b[0;32m--> 135\u001b[0m         \u001b[38;5;28;01mraise\u001b[39;00m \u001b[38;5;167;01mImportError\u001b[39;00m(\n\u001b[1;32m    136\u001b[0m             \u001b[38;5;124m\"\u001b[39m\u001b[38;5;124mFailed to import any of the following Qt binding modules: \u001b[39m\u001b[38;5;132;01m{}\u001b[39;00m\u001b[38;5;124m\"\u001b[39m\n\u001b[1;32m    137\u001b[0m             \u001b[38;5;241m.\u001b[39mformat(\u001b[38;5;124m\"\u001b[39m\u001b[38;5;124m, \u001b[39m\u001b[38;5;124m\"\u001b[39m\u001b[38;5;241m.\u001b[39mjoin(_ETS\u001b[38;5;241m.\u001b[39mvalues())))\n\u001b[1;32m    138\u001b[0m \u001b[38;5;28;01melse\u001b[39;00m:  \u001b[38;5;66;03m# We should not get there.\u001b[39;00m\n\u001b[1;32m    139\u001b[0m     \u001b[38;5;28;01mraise\u001b[39;00m \u001b[38;5;167;01mAssertionError\u001b[39;00m(\u001b[38;5;124mf\u001b[39m\u001b[38;5;124m\"\u001b[39m\u001b[38;5;124mUnexpected QT_API: \u001b[39m\u001b[38;5;132;01m{\u001b[39;00mQT_API\u001b[38;5;132;01m}\u001b[39;00m\u001b[38;5;124m\"\u001b[39m)\n",
      "\u001b[0;31mImportError\u001b[0m: Failed to import any of the following Qt binding modules: PyQt6, PySide6, PyQt5, PySide2"
     ]
    }
   ],
   "source": [
    "%matplotlib qt\n",
    "%run animate_simanneal.py -minima 0 "
   ]
  },
  {
   "cell_type": "markdown",
   "metadata": {},
   "source": [
    "The `animate_simanneal.py` program can accept for arguments:\n",
    "\n",
    "- **`minima`** selects a polynomial with {0,1,2,3} extrema. \n",
    "For zero is the example given\n",
    "- **`T0`** Initial Temperature (default 128) Initial Temperature\n",
    "- **`T1`** Final Temperature (default 0.01)\n",
    "- **`CF`** Percentage of temperature loss at each step (default 0.5)\n",
    "- **`CS`** Cooling period (default 100)\n",
    "- **`d`** jump radius (default 3.0)\n",
    "- **`--delay`** time between frames in ms (default 100)\n",
    "\n",
    "Try giving other data and see how the annealing behavior changes."
   ]
  },
  {
   "cell_type": "markdown",
   "metadata": {},
   "source": [
    "`%matplotlib inline` includes graphs inside the notebook, next to the code."
   ]
  },
  {
   "cell_type": "code",
   "execution_count": null,
   "metadata": {},
   "outputs": [],
   "source": [
    "%matplotlib inline"
   ]
  },
  {
   "cell_type": "markdown",
   "metadata": {},
   "source": [
    "## Travelling Salesman\n",
    "\n",
    "The simulated annealing algorithm is used\n",
    "to solve the [travelling salesman](https://en.wikipedia.org/wiki/Travelling_salesman_problem) problem.\n",
    "\n",
    "The problem is as follows:\n",
    "\n",
    "> A salesman wants to visit $N$ cities and return to his base.\n",
    "What is the shortest route that connects all the cities?\n",
    "\n",
    "In this exercise cities in Europe are considered.\n",
    "The file [eu.csv](http://math.ntua.gr/~loulakis/info/python_codes_files/eu.csv) contains \n",
    "the geographic longitude and latitude of 27 European cities. The code organizes the information as follows:\n",
    "\n",
    "* **`city_coord`** a `dictionary` which for each city has the longitude and latitude\n",
    "* **`Ncities`** the number of cities (27)\n",
    "* **`city_names`** the names of the cities\n",
    "\n",
    "The cell below prints the coordinates of Athens for verification."
   ]
  },
  {
   "cell_type": "code",
   "execution_count": null,
   "metadata": {},
   "outputs": [],
   "source": [
    "import csv\n",
    "import urllib.request\n",
    "\n",
    "url = \"http://math.ntua.gr/~loulakis/info/python_codes_files/eu.csv\"\n",
    "with urllib.request.urlopen(url) as urlstream:\n",
    "    csvfile = csv.reader(urlstream.read().decode('utf-8').splitlines(), delimiter=\",\")\n",
    "    city_coord = {city: tuple(map(float, (longitude, latitude))) \n",
    "                  for longitude, latitude, city, _ in csvfile}\n",
    "\n",
    "Ncities = len(city_coord)  # number of cities\n",
    "city_names = list(city_coord.keys())\n",
    "city_coord[\"Athens\"]"
   ]
  },
  {
   "cell_type": "markdown",
   "metadata": {},
   "source": [
    "In the next cell the `geodesic_dist` function is defined, which calculates the\n",
    "distance between 2 cities given their coordinates (credits to [Michael Dunn](http://stackoverflow.com/a/4913653/2167530)) based on the formula [Haversine](https://en.wikipedia.org/wiki/Haversine_formula)."
   ]
  },
  {
   "cell_type": "code",
   "execution_count": null,
   "metadata": {},
   "outputs": [],
   "source": [
    "def geodesic_dist(city1, city2):\n",
    "    \"\"\"\n",
    "    Calculate the great circle distance between two points \n",
    "    on the earth (specified in decimal degrees)\n",
    "    \"\"\"\n",
    "    if city1 == city2:\n",
    "        return 0.\n",
    "    lon1, lat1 = np.deg2rad(city1)\n",
    "    lon2, lat2 = np.deg2rad(city2)\n",
    "    \n",
    "    # haversine formula \n",
    "    dlon = lon2 - lon1 \n",
    "    dlat = lat2 - lat1 \n",
    "    a = np.sin(dlat/2)**2 + np.cos(lat1) * np.cos(lat2) * np.sin(dlon/2)**2\n",
    "    c = 2 * np.arcsin(np.sqrt(a)) \n",
    "    r = 6371 # Radius of earth in kilometers 6371. Use 3956 for miles\n",
    "    return c * r"
   ]
  },
  {
   "cell_type": "markdown",
   "metadata": {},
   "source": [
    "For convenience and speed all the distances are calculated in advance and stored in a table."
   ]
  },
  {
   "cell_type": "code",
   "execution_count": null,
   "metadata": {},
   "outputs": [],
   "source": [
    "# Distance between every pair of cities\n",
    "dist = np.array([\n",
    "    [geodesic_dist(coord1, coord2) for coord2 in city_coord.values()]\n",
    "    for coord1 in city_coord.values()\n",
    "])"
   ]
  },
  {
   "cell_type": "markdown",
   "metadata": {},
   "source": [
    "As a convention the initial order of cities is conisedered to be the one which\n",
    "iteration inside `city_coord` yields:"
   ]
  },
  {
   "cell_type": "code",
   "execution_count": null,
   "metadata": {},
   "outputs": [],
   "source": [
    "for i, city in enumerate(city_coord): print(i, city)"
   ]
  },
  {
   "cell_type": "markdown",
   "metadata": {},
   "source": [
    "## Algorithm\n",
    "\n",
    "Due to the fact that the path the salesman will follow is circular, it doesn't matter\n",
    "where he starts from (only which cities he wants to visit matters).\n",
    "Therefore, our \"solution\" to the problem is a list of the order in which\n",
    "one should visit the cities.\n",
    "\n",
    "Therefore, our goal is to use the technique of simulated annealing to\n",
    "\"search\" the space of the permutations of the list of cities in order to\n",
    "find the permutation that gives the total distance close to the minimum possible.\n",
    "\n",
    "To run the annealing algorithm 2 elements are necessary:\n",
    "\n",
    "1. A *energy* function.\n",
    "2. A way to transition to neighboring states\n",
    "\n",
    "As an energy function the total distance travelled by the seller is considered (subject to minimizaion)."
   ]
  },
  {
   "cell_type": "code",
   "execution_count": null,
   "metadata": {},
   "outputs": [],
   "source": [
    "def total_dist(cities):\n",
    "    \"\"\"The total distance covered by the salesman\"\"\"\n",
    "    total = sum(dist[city1][city2] for city1, city2 in zip(cities[:-1], cities[1:]))\n",
    "    total += dist[cities[-1]][cities[0]] # return to start\n",
    "    return total"
   ]
  },
  {
   "cell_type": "markdown",
   "metadata": {},
   "source": [
    "Permutations that differ only in a pair of cities are called neighbouring permutations. \n",
    "Therefore, to move in the space of permutations, 2 cities are chosen in random and their \n",
    "position in the list is swapped.\n",
    "\n",
    "To calculate the change in total distance for such a swap, all the distances from the beginning \n",
    "can be added up, but obviously something like this is not efficient. For this purpose the function `dist_diff` is defined.\n",
    "In the next section the logic behind the function is explained.\n",
    "\n",
    "### Cost of changing visit order\n",
    "\n",
    "Changing the order of 2 cities is a local change so it is enough to think about which ones are\n",
    "consequences of this change. *How many distances are affected in total?*\n",
    "\n",
    "Consider 2 triads of cities randomly within the list:\n",
    "\n",
    "* $A \\to B \\to C$ and \n",
    "* $X \\to Y \\to Z$\n",
    "\n",
    "and without loss of generality consider that the city $B$ appears\n",
    "before $Y$ in the list.\n",
    "\n",
    "There are 2 cases, which are listed below.\n",
    "\n",
    "1. General case $B$ and $Y$ are not adjacent (i.e. $X \\not\\equiv B$)\n",
    "2. Specific case $B$ and $Y$ are adjacent (i.e. $X \\equiv B$)\n",
    "\n",
    "The diagram below shows the results of a change between $B$ and $Y$\n",
    "in these 2 cases."
   ]
  },
  {
   "cell_type": "markdown",
   "metadata": {},
   "source": [
    "![TSP Swap Cases](http://math.ntua.gr/~loulakis/info/python_codes_files/tsp_swap.svg)"
   ]
  },
  {
   "cell_type": "code",
   "execution_count": null,
   "metadata": {},
   "outputs": [],
   "source": [
    "def dist_diff(ABC, XYZ, tour):\n",
    "    \"\"\"\n",
    "    Differnce of total distance traveled if we swap cities B, Y.\n",
    "    Input: 2 triplets of nodes A, B, C and X, Y, Z.\n",
    "    \"\"\"\n",
    "    # order\n",
    "    A, B, C = ABC\n",
    "    X, Y, Z = XYZ\n",
    "    # cities\n",
    "    a, b, c = tour[ABC]\n",
    "    x, y, z = tour[XYZ]\n",
    "    \n",
    "    BpY = (B - Y) % len(tour) # to understand the order\n",
    "    dx = 0\n",
    "    \n",
    "    if BpY != -1 % len(tour):  #  B is not X\n",
    "        dx += dist[x, b] - dist[x, y] + dist[y, c] - dist[b, c]\n",
    "    if BpY != 1:  # Y is not A\n",
    "        dx += dist[a, y] - dist[a, b] + dist[b, z] - dist[y, z]\n",
    "\n",
    "    return dx"
   ]
  },
  {
   "cell_type": "markdown",
   "metadata": {},
   "source": [
    "### Implementation\n",
    "\n",
    "In the following cell an algorithm of the simulated adaptation for the traveling salesman problem is impleneted.\n",
    "\n",
    "First the parameters of the algorithm are set and some variables to visualize the results. The code is almost identical to the function given earlier. One important difference is that the optimal solution is stored each time. This is done because with a little computational cost a better path can be found that the algorithm explored but did not terminate on it."
   ]
  },
  {
   "cell_type": "code",
   "execution_count": null,
   "metadata": {},
   "outputs": [],
   "source": [
    "# Annealing Parameters\n",
    "Temp = 10 ** 7\n",
    "Temp_end = 0.02\n",
    "cool_factor = 0.95\n",
    "cool_schedule = 100\n",
    "\n",
    "# Bookeeping parameters\n",
    "tour = np.arange(Ncities)  # initial permutation\n",
    "tour_length = total_dist(tour)  # initial energy level\n",
    "\n",
    "shortest_tour = np.copy(tour)  # optimal permutation (to be updated)\n",
    "shortest_tour_length = tour_length  # shortest distance\n",
    "\n",
    "# To plot later\n",
    "first_guess = tour_length\n",
    "running_lengths = []\n",
    "optimal_lengths = []\n",
    "\n",
    "# Main loop\n",
    "while Temp > Temp_end:\n",
    "    # Constant Temperature Era\n",
    "    for step in range(cool_schedule):\n",
    "        # Choose 2 cities to swap\n",
    "        B, Y = np.random.choice(Ncities, size=2, replace=False)  # index of cities to swap\n",
    "        ABC = np.array([B-1, B, B+1]) % Ncities  # neighbors of B\n",
    "        XYZ = np.array([Y-1, Y, Y+1]) % Ncities  # neighbors of Y\n",
    "\n",
    "        # Compute the energy diffence  \n",
    "        diff = dist_diff(ABC, XYZ, tour)\n",
    "        \n",
    "        # Decide whether to change state.\n",
    "        if np.log(np.random.rand()) < -diff / Temp:\n",
    "            tour[B], tour[Y] = tour[Y], tour[B]\n",
    "            tour_length += diff\n",
    "            # Keep track of the optimal tour observed\n",
    "            if tour_length < shortest_tour_length:\n",
    "                shortest_tour = np.copy(tour)\n",
    "                shortest_tour_length = tour_length\n",
    "\n",
    "        running_lengths.append(tour_length)\n",
    "        optimal_lengths.append(shortest_tour_length)\n",
    "\n",
    "    Temp *= cool_factor  # cool down\n",
    "\n",
    "print('Improvement:\\t%8.0f%%'  % (100 * (first_guess - shortest_tour_length) / first_guess))\n",
    "print('Initial distance:\\t%.0f km'  % first_guess)\n",
    "print('Optimal distance:\\t%.0f km'  % shortest_tour_length)"
   ]
  },
  {
   "cell_type": "markdown",
   "metadata": {},
   "source": [
    "### results\n",
    "\n",
    "The evolution of the current optimal solution is plotted below."
   ]
  },
  {
   "cell_type": "code",
   "execution_count": null,
   "metadata": {},
   "outputs": [],
   "source": [
    "running_lengths = np.array(running_lengths)\n",
    "optimal_lengths = np.array(optimal_lengths)\n",
    "\n",
    "plt.figure(figsize = (10, 7))\n",
    "plt.plot(np.arange(len(running_lengths)), running_lengths, label=\"candidate solution\")\n",
    "plt.plot(np.arange(len(optimal_lengths)), optimal_lengths, 'r-', linewidth=2, label=\"optimal solution\")\n",
    "\n",
    "plt.xlabel(\"Steps (Temperature)\")\n",
    "plt.ylabel(\"Tour Length\")\n",
    "plt.legend(bbox_to_anchor=(1.05, 1), loc=2, borderaxespad=0.)\n",
    "plt.grid()\n",
    "\n",
    "plt.show()"
   ]
  },
  {
   "cell_type": "markdown",
   "metadata": {},
   "source": [
    "Finally, with the next code cell a visual representation \n",
    "of the optimal path is created."
   ]
  },
  {
   "cell_type": "code",
   "execution_count": null,
   "metadata": {},
   "outputs": [],
   "source": [
    "plt.figure(figsize=(12, 9))  # increase image size\n",
    "\n",
    "# Get Tour Coordinates\n",
    "coord = np.array([city_coord[city] for city in city_names])\n",
    "cities = shortest_tour.copy()\n",
    "cities = np.append(cities, cities[0])\n",
    "coord = coord[cities,:]  # rearrange\n",
    "\n",
    "# Scale for better readability\n",
    "scale_factor = 100\n",
    "coord = coord * scale_factor\n",
    "\n",
    "# Plot Tour\n",
    "plt.plot(coord[:, 1], coord[:,0], 'o-', mfc='r')\n",
    "plt.xlabel(\"Longitude\")\n",
    "plt.ylabel(\"Latitude\")\n",
    "plt.grid()\n",
    "\n",
    "# Manage spacing\n",
    "spacing = np.fabs(min(coord[:,1]) - max(coord[:,1])) * .1\n",
    "plt.xlim(min(coord[:,1]) - spacing, max(coord[:,1]) + spacing * 3)\n",
    "plt.ylim(min(coord[:,0]) - spacing, max(coord[:,0]) + spacing)\n",
    "\n",
    "# Add labels - remove for more clear picture\n",
    "if len(cities)<=30:\n",
    "    for i, city in enumerate(cities[:-1]):\n",
    "        plt.text(coord[i,1], coord[i,0],\n",
    "                 '%s' % city_names[city],\n",
    "                 withdash = True,\n",
    "                 dashdirection = 1,\n",
    "                 dashlength = 30,\n",
    "                 rotation = 0,\n",
    "                 dashrotation = 20,\n",
    "                 dashpush = 10)\n",
    "plt.show()"
   ]
  },
  {
   "cell_type": "markdown",
   "metadata": {},
   "source": [
    "## Application 1\n",
    "\n",
    "Use the simulated annealing method for the function:\n",
    "\n",
    "$$ V(x) = \\frac{13}{90} x^4 - \\frac{3}{10} x^3 - \\frac{101}{45} x^2 \\frac{13}{15}x + 4.$$\n",
    "\n",
    "A) Run the algorithm `200` times and calculate the percentage of runs in which \n",
    "the algorithm found the total minimum and the percentage in which it found a local minimum\n",
    "(with a tolerance of 0.05).\n",
    "\n",
    "B) Run the algorithm `200` times for values of `cool_factor = [0.25, 0.5, 0.6, 0.7, 0.8, 0.9, 0.95, 0.99]` and estimate for each value the probability of the algorithm computing the total minimum. \n",
    "Plot the values of `cool_factor` and the probability of computing the total minimum."
   ]
  },
  {
   "cell_type": "code",
   "execution_count": null,
   "metadata": {},
   "outputs": [],
   "source": [
    "# Application 1\n",
    "import numpy as np\n",
    "import matplotlib.pyplot as plt\n",
    "\n",
    "\n",
    "np.random.seed(2017)  # for reproducibility\n",
    "\n",
    "%matplotlib inline"
   ]
  },
  {
   "cell_type": "code",
   "execution_count": null,
   "metadata": {},
   "outputs": [],
   "source": [
    "# Question (Α):\n",
    "# Plotting our function in advance for better visualization of the problem\n",
    "def V(x):\n",
    "    \"\"\"Energy (objective) function to minimize\"\"\"\n",
    "    return np.polyval((13/90, -3/10, -101/45, 13/15, 4.0), x)\n",
    "\n",
    "x = np.linspace(-4, 6, 100) # Aproximated interval after several trials\n",
    "\n",
    "plt.figure(figsize = (9, 6))\n",
    "plt.plot(x, V(x))\n",
    "plt.xlabel(\"x\")\n",
    "plt.ylabel(\"V(x)\")\n",
    "plt.grid(True)\n",
    "plt.show()"
   ]
  },
  {
   "cell_type": "code",
   "execution_count": null,
   "metadata": {},
   "outputs": [],
   "source": [
    "Minimum       =  3.57\n",
    "Local_Minimum = -2.18 \n",
    "reps          =  200\n",
    "tol           =  0.05\n",
    "MinCount      =  0\n",
    "LMinCount     =  0\n",
    "## Parameters\n",
    "T_start, T_end = 2.0, 2**(-12)\n",
    "cool_sch, cool_factor = 80, 0.9\n",
    "\n",
    "for i in range(reps):\n",
    "    path = sim_anneal(V, -4, 6, delta = 1., # Jump factor \n",
    "                      T = T_start, T_min = T_end,\n",
    "                      cool_factor = cool_factor, \n",
    "                      cool_sch = cool_sch,\n",
    "                      trace = True)  \n",
    "    if(abs(path[-1]-Minimum)<=abs(tol)):\n",
    "        MinCount += 1\n",
    "    \n",
    "    if(abs(path[-1]-Local_Minimum)<=abs(tol)):\n",
    "        LMinCount += 1\n",
    "    \n",
    "    print(path[-1])\n",
    "print(\"The Minimum success percentage, for reps = \", reps, \"within the given tolerance = \", tol, \"is \", MinCount/reps)\n",
    "print(\"The Local Minimum success percentage, for reps = \", reps, \"within the given tolerance = \", tol, \"is \", LMinCount/reps)"
   ]
  },
  {
   "cell_type": "code",
   "execution_count": null,
   "metadata": {},
   "outputs": [],
   "source": [
    "# Question (Β):\n",
    "Minimum       =  3.57\n",
    "reps          =  200\n",
    "tol           =  0.05\n",
    "COOL_FACTOR   = [0.25, 0.5, 0.6, 0.7, 0.8, 0.9, 0.95, 0.99]\n",
    "PERCENTAGE    = []\n",
    "## Parameters\n",
    "T_start, T_end = 2.0, 2**(-12)\n",
    "cool_sch = 80          # Refresh rate = 80 steps...\n",
    "for cool_factor in COOL_FACTOR:\n",
    "    MinCount      =  0 # Initialize for every different cool_factor value...\n",
    "    for i in range(reps):\n",
    "        path = sim_anneal(V, -4, 6, delta = 1., # Jump factor \n",
    "                          T = T_start, T_min = T_end,\n",
    "                          cool_factor = cool_factor, \n",
    "                          cool_sch = cool_sch,\n",
    "                          trace = True)  \n",
    "        if(abs(path[-1]-Minimum)<=abs(tol)):\n",
    "            MinCount += 1 \n",
    "    PERCENTAGE.append(MinCount/reps)\n",
    "    print(\"The Minimum success percentage, for reps = \", reps, \", tolerance = \", tol, \" and cool factor =\", cool_factor, \"is \", MinCount/reps)"
   ]
  },
  {
   "cell_type": "code",
   "execution_count": null,
   "metadata": {},
   "outputs": [],
   "source": [
    "## Plotting\n",
    "plt.plot(COOL_FACTOR, PERCENTAGE)\n",
    "plt.xlabel(\"cool_factor\")\n",
    "plt.ylabel(\"Success percentage\")\n",
    "plt.grid(True)\n",
    "plt.show()"
   ]
  },
  {
   "cell_type": "markdown",
   "metadata": {},
   "source": [
    "## Application 2\n",
    "\n",
    "(A) Try to improve the solution above by tweaking the code parameters.\n",
    "\n",
    "(B) Run the travelling salesman code for 35 cities in Europe.\n",
    "    The data can be found in this address:\n",
    "\n",
    "        `http://math.ntua.gr/~loulakis/info/python_codes_files/europe.csv`\n",
    "\n",
    "Plot the graphs for the evolution of the current optimal solution and for the proposed path in both cases.\n",
    "\n",
    "C) In a text cell, answer the following questions:\n",
    "\n",
    "1. How many possible paths pass through all 35 cities only once? \n",
    "\n",
    "2. If using a computer the time required to calculate the total length of such a path is 1µsec, how much time would it take to find the optimal path using a brute force algorithm that would calculate the total distance traveled by the traveling salesman along each path and to return the path with the minimum total distance?"
   ]
  },
  {
   "cell_type": "code",
   "execution_count": null,
   "metadata": {},
   "outputs": [],
   "source": [
    "# Application 2\n",
    "# Question (Α):\n",
    "import csv\n",
    "import urllib.request\n",
    "\n",
    "url = \"http://math.ntua.gr/~loulakis/info/python_codes_files/eu.csv\"\n",
    "with urllib.request.urlopen(url) as urlstream:\n",
    "    csvfile = csv.reader(urlstream.read().decode('utf-8').splitlines(), delimiter=\",\")\n",
    "    city_coord = {city: tuple(map(float, (longitude, latitude))) \n",
    "                  for longitude, latitude, city, _ in csvfile}\n",
    "\n",
    "Ncities = len(city_coord)  # number of cities\n",
    "city_names = list(city_coord.keys())\n",
    "                  \n",
    "# Distance between every pair of cities\n",
    "dist = np.array([\n",
    "    [geodesic_dist(coord1, coord2) for coord2 in city_coord.values()]\n",
    "    for coord1 in city_coord.values()\n",
    "])\n"
   ]
  },
  {
   "cell_type": "code",
   "execution_count": null,
   "metadata": {},
   "outputs": [],
   "source": [
    "# Annealing Parameters\n",
    "Temp = 10 ** 7\n",
    "Temp_end = 0.02\n",
    "cool_factor = 0.95\n",
    "cool_schedule = 800\n",
    "\n",
    "# Bookeeping parameters\n",
    "tour = np.arange(Ncities)  # initial permutation\n",
    "tour_length = total_dist(tour)  # initial energy level\n",
    "\n",
    "shortest_tour = np.copy(tour)  # optimal permutation (to be updated)\n",
    "shortest_tour_length = tour_length  # shortest distance\n",
    "\n",
    "# To plot later\n",
    "first_guess = tour_length\n",
    "running_lengths = []\n",
    "optimal_lengths = []\n",
    "\n",
    "# Main loop\n",
    "while Temp > Temp_end:\n",
    "    # Constant Temperature Era\n",
    "    for step in range(cool_schedule):\n",
    "        # Choose 2 cities to swap\n",
    "        B, Y = np.random.choice(Ncities, size=2, replace=False)  # index of cities to swap\n",
    "        ABC = np.array([B-1, B, B+1]) % Ncities  # neighbors of B\n",
    "        XYZ = np.array([Y-1, Y, Y+1]) % Ncities  # neighbors of Y\n",
    "\n",
    "        # Compute the energy diffence  \n",
    "        diff = dist_diff(ABC, XYZ, tour)\n",
    "        \n",
    "        # Decide whether to change state.\n",
    "        if np.log(np.random.rand()) < -diff / Temp:\n",
    "            tour[B], tour[Y] = tour[Y], tour[B]\n",
    "            tour_length += diff\n",
    "            # Keep track of the optimal tour observed\n",
    "            if tour_length < shortest_tour_length:\n",
    "                shortest_tour = np.copy(tour)\n",
    "                shortest_tour_length = tour_length\n",
    "\n",
    "        running_lengths.append(tour_length)\n",
    "        optimal_lengths.append(shortest_tour_length)\n",
    "\n",
    "    Temp *= cool_factor  # cool down\n",
    "\n",
    "print('Improvement:\\t%8.0f%%'  % (100 * (first_guess - shortest_tour_length) / first_guess))\n",
    "print('Initial distance:\\t%.0f km'  % first_guess)\n",
    "print('Optimal distance:\\t%.0f km'  % shortest_tour_length)"
   ]
  },
  {
   "cell_type": "code",
   "execution_count": null,
   "metadata": {},
   "outputs": [],
   "source": [
    "## Plotting\n",
    "running_lengths = np.array(running_lengths)\n",
    "optimal_lengths = np.array(optimal_lengths)\n",
    "\n",
    "plt.figure(figsize = (10, 7))\n",
    "plt.plot(np.arange(len(running_lengths)), running_lengths, label=\"candidate solution\")\n",
    "plt.plot(np.arange(len(optimal_lengths)), optimal_lengths, 'r-', linewidth=2, label=\"optimal solution\")\n",
    "\n",
    "plt.xlabel(\"Steps (Temperature)\")\n",
    "plt.ylabel(\"Tour Length\")\n",
    "plt.legend(bbox_to_anchor=(1.05, 1), loc=2, borderaxespad=0.)\n",
    "plt.grid()\n",
    "\n",
    "plt.show()"
   ]
  },
  {
   "cell_type": "code",
   "execution_count": null,
   "metadata": {},
   "outputs": [],
   "source": [
    "# Questions 2 & 3:\n",
    "###########################################################################################\n",
    "url = \"http://math.ntua.gr/~loulakis/info/python_codes_files/europe.csv\" # New URL...\n",
    "with urllib.request.urlopen(url) as urlstream:\n",
    "    csvfile = csv.reader(urlstream.read().decode('utf-8').splitlines(), delimiter=\",\")\n",
    "    city_coord = {city: tuple(map(float, (longitude, latitude))) \n",
    "                  for longitude, latitude, city, _ in csvfile}\n",
    "\n",
    "Ncities = len(city_coord)  # number of cities\n",
    "city_names = list(city_coord.keys())\n",
    "###########################################################################################\n",
    "# Distance between every pair of cities\n",
    "dist = np.array([\n",
    "    [geodesic_dist(coord1, coord2) for coord2 in city_coord.values()]\n",
    "    for coord1 in city_coord.values()\n",
    "])"
   ]
  },
  {
   "cell_type": "code",
   "execution_count": null,
   "metadata": {},
   "outputs": [],
   "source": [
    "# Annealing Parameters\n",
    "Temp = 10 ** 7\n",
    "Temp_end = 0.02\n",
    "cool_factor = 0.95\n",
    "cool_schedule = 100\n",
    "\n",
    "# Bookeeping parameters\n",
    "tour = np.arange(Ncities)  # initial permutation\n",
    "tour_length = total_dist(tour)  # initial energy level\n",
    "\n",
    "shortest_tour = np.copy(tour)  # optimal permutation (to be updated)\n",
    "shortest_tour_length = tour_length  # shortest distance\n",
    "\n",
    "# To plot later\n",
    "first_guess = tour_length\n",
    "running_lengths = []\n",
    "optimal_lengths = []\n",
    "\n",
    "# Main loop\n",
    "while Temp > Temp_end:\n",
    "    # Constant Temperature Era\n",
    "    for step in range(cool_schedule):\n",
    "        # Choose 2 cities to swap\n",
    "        B, Y = np.random.choice(Ncities, size=2, replace=False)  # index of cities to swap\n",
    "        ABC = np.array([B-1, B, B+1]) % Ncities  # neighbors of B\n",
    "        XYZ = np.array([Y-1, Y, Y+1]) % Ncities  # neighbors of Y\n",
    "\n",
    "        # Compute the energy diffence  \n",
    "        diff = dist_diff(ABC, XYZ, tour)\n",
    "        \n",
    "        # Decide whether to change state.\n",
    "        if np.log(np.random.rand()) < -diff / Temp:\n",
    "            tour[B], tour[Y] = tour[Y], tour[B]\n",
    "            tour_length += diff\n",
    "            # Keep track of the optimal tour observed\n",
    "            if tour_length < shortest_tour_length:\n",
    "                shortest_tour = np.copy(tour)\n",
    "                shortest_tour_length = tour_length\n",
    "\n",
    "        running_lengths.append(tour_length)\n",
    "        optimal_lengths.append(shortest_tour_length)\n",
    "\n",
    "    Temp *= cool_factor  # cool down\n",
    "\n",
    "print('Improvement:\\t%8.0f%%'  % (100 * (first_guess - shortest_tour_length) / first_guess))\n",
    "print('Initial distance:\\t%.0f km'  % first_guess)\n",
    "print('Optimal distance:\\t%.0f km'  % shortest_tour_length)"
   ]
  },
  {
   "cell_type": "code",
   "execution_count": null,
   "metadata": {},
   "outputs": [],
   "source": [
    "#Plotting\n",
    "running_lengths = np.array(running_lengths)\n",
    "optimal_lengths = np.array(optimal_lengths)\n",
    "\n",
    "plt.figure(figsize = (10, 7))\n",
    "plt.plot(np.arange(len(running_lengths)), running_lengths, label=\"candidate solution\")\n",
    "plt.plot(np.arange(len(optimal_lengths)), optimal_lengths, 'r-', linewidth=2, label=\"optimal solution\")\n",
    "\n",
    "plt.xlabel(\"Steps (Temperature)\")\n",
    "plt.ylabel(\"Tour Length\")\n",
    "plt.legend(bbox_to_anchor=(1.05, 1), loc=2, borderaxespad=0.)\n",
    "plt.grid()\n",
    "\n",
    "plt.show()"
   ]
  },
  {
   "cell_type": "markdown",
   "metadata": {},
   "source": [
    "#### Question (C) \n",
    "1. The possible paths passing through all 35 cities exactly one time are equal to `35! ≈ 1.033314797x10^40` i.e. the total number of the permutations of the 35 cities. \n",
    "\n",
    "2. Hypothetically if the time cost for calculating the distance for one path is 1ms, then calculating the distance of all possible paths takes approximately `1.033314797x10^40μs = 1.033314797x10^34s` which is a huge number."
   ]
  }
 ],
 "metadata": {
  "kernelspec": {
   "display_name": "Python 3 (ipykernel)",
   "language": "python",
   "name": "python3"
  },
  "language_info": {
   "codemirror_mode": {
    "name": "ipython",
    "version": 3
   },
   "file_extension": ".py",
   "mimetype": "text/x-python",
   "name": "python",
   "nbconvert_exporter": "python",
   "pygments_lexer": "ipython3",
   "version": "3.11.4"
  }
 },
 "nbformat": 4,
 "nbformat_minor": 4
}
